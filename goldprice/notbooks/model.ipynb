{
 "cells": [
  {
   "cell_type": "code",
   "execution_count": 22,
   "id": "e00888fc",
   "metadata": {},
   "outputs": [],
   "source": [
    "import sys, os\n",
    "sys.path.append(os.path.abspath(\"..\"))\n",
    "from src.data import load_data\n",
    "import numpy as np\n",
    "from sklearn.model_selection import train_test_split\n",
    "from sklearn.ensemble import RandomForestRegressor\n",
    "from sklearn import metrics\n",
    "import matplotlib.pyplot as plt "
   ]
  },
  {
   "cell_type": "code",
   "execution_count": 23,
   "id": "dc973d52",
   "metadata": {},
   "outputs": [],
   "source": [
    "df=load_data()"
   ]
  },
  {
   "cell_type": "code",
   "execution_count": 24,
   "id": "ce4006cb",
   "metadata": {},
   "outputs": [],
   "source": [
    "X=df.drop(columns=['GLD' , 'Date'])\n",
    "y=df[\"GLD\"]"
   ]
  },
  {
   "cell_type": "code",
   "execution_count": 25,
   "id": "875e9751",
   "metadata": {},
   "outputs": [],
   "source": [
    "X_trian , X_test , y_train , y_test = train_test_split(X , y   , test_size=.2 , random_state=2)\n"
   ]
  },
  {
   "cell_type": "code",
   "execution_count": 26,
   "id": "73fbb489",
   "metadata": {},
   "outputs": [],
   "source": [
    "clf=RandomForestRegressor(n_estimators=100)"
   ]
  },
  {
   "cell_type": "code",
   "execution_count": 27,
   "id": "cc8fa777",
   "metadata": {},
   "outputs": [],
   "source": [
    "clf.fit(X_trian , y_train)\n",
    "pred= clf.predict(X_trian)"
   ]
  },
  {
   "cell_type": "code",
   "execution_count": 28,
   "id": "7d71f128",
   "metadata": {},
   "outputs": [
    {
     "data": {
      "text/plain": [
       "0.9984907208901662"
      ]
     },
     "execution_count": 28,
     "metadata": {},
     "output_type": "execute_result"
    }
   ],
   "source": [
    "metrics.r2_score(pred, y_train)"
   ]
  },
  {
   "cell_type": "code",
   "execution_count": 29,
   "id": "6bf33da4",
   "metadata": {},
   "outputs": [
    {
     "data": {
      "text/plain": [
       "0.9889568340008454"
      ]
     },
     "execution_count": 29,
     "metadata": {},
     "output_type": "execute_result"
    }
   ],
   "source": [
    "pred = clf.predict(X_test)\n",
    "metrics.r2_score(pred , y_test )"
   ]
  },
  {
   "cell_type": "code",
   "execution_count": 31,
   "id": "4690ddae",
   "metadata": {},
   "outputs": [],
   "source": [
    "# to high , maybe using rnn or any thing will give better res\n"
   ]
  },
  {
   "cell_type": "code",
   "execution_count": null,
   "id": "a024670c",
   "metadata": {},
   "outputs": [],
   "source": []
  }
 ],
 "metadata": {
  "kernelspec": {
   "display_name": "sonar_project",
   "language": "python",
   "name": "python3"
  },
  "language_info": {
   "codemirror_mode": {
    "name": "ipython",
    "version": 3
   },
   "file_extension": ".py",
   "mimetype": "text/x-python",
   "name": "python",
   "nbconvert_exporter": "python",
   "pygments_lexer": "ipython3",
   "version": "3.10.18"
  }
 },
 "nbformat": 4,
 "nbformat_minor": 5
}
